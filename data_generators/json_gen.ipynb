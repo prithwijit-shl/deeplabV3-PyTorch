{
 "cells": [
  {
   "cell_type": "code",
   "execution_count": 2,
   "metadata": {},
   "outputs": [
    {
     "name": "stdout",
     "output_type": "stream",
     "text": [
      "JSON file saved to /glb/hou/pt.sgs/data/ml_ai_us/uspcjc/deeplabV3-PyTorch/data_generators/wsher.json\n"
     ]
    }
   ],
   "source": [
    "import os\n",
    "import json\n",
    "\n",
    "# Define the paths to your folders\n",
    "base_path = '/glb/hou/pt.sgs/data/ml_ai_us/uspcjc/datasets/topsalt/wsher'\n",
    "image_folder = 'images'\n",
    "label_folder = 'labels'\n",
    "subfolders = ['train', 'val', 'test']\n",
    "\n",
    "# Initialize a dictionary to hold the data\n",
    "data = {subfolder: [] for subfolder in subfolders}\n",
    "\n",
    "# Iterate through each subfolder (train, val, test)\n",
    "for subfolder in subfolders:\n",
    "    image_dir = os.path.join(base_path, image_folder, subfolder)\n",
    "    label_dir = os.path.join(base_path, label_folder, subfolder)\n",
    "    \n",
    "    # Get all files in the image directory\n",
    "    image_files = os.listdir(image_dir)\n",
    "    \n",
    "    # Iterate through image files\n",
    "    for image_file in image_files:\n",
    "        if image_file.endswith('.jpg'):\n",
    "            # Assuming corresponding annotation file is in label_dir with same name but .png extension\n",
    "            annotation_file = os.path.splitext(image_file)[0] + '.png'\n",
    "            # Create dictionary entry for this pair\n",
    "            pair = {\n",
    "                \"image\": image_file,\n",
    "                \"annotation\": annotation_file\n",
    "            }\n",
    "            # Append to the corresponding subfolder list\n",
    "            data[subfolder].append(pair)\n",
    "\n",
    "# Write the data dictionary to a JSON file\n",
    "json_file = '/glb/hou/pt.sgs/data/ml_ai_us/uspcjc/deeplabV3-PyTorch/data_generators/wsher.json'\n",
    "with open(json_file, 'w') as f:\n",
    "    json.dump(data, f, indent=2)\n",
    "\n",
    "print(f\"JSON file saved to {json_file}\")\n"
   ]
  }
 ],
 "metadata": {
  "kernelspec": {
   "display_name": "dino",
   "language": "python",
   "name": "python3"
  },
  "language_info": {
   "codemirror_mode": {
    "name": "ipython",
    "version": 3
   },
   "file_extension": ".py",
   "mimetype": "text/x-python",
   "name": "python",
   "nbconvert_exporter": "python",
   "pygments_lexer": "ipython3",
   "version": "3.10.13"
  }
 },
 "nbformat": 4,
 "nbformat_minor": 2
}
